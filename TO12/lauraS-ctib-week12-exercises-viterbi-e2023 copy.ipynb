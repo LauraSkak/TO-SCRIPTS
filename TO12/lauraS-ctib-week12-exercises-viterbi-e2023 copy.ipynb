{
 "cells": [
  {
   "cell_type": "code",
   "execution_count": 154,
   "metadata": {},
   "outputs": [],
   "source": [
    "import math  # Just ignore this :-)\n",
    "\n",
    "def log(x):\n",
    "    if x == 0:\n",
    "        return float('-inf')\n",
    "    return math.log(x)"
   ]
  },
  {
   "cell_type": "markdown",
   "metadata": {},
   "source": [
    "# CTiB E2023 - Week 11 - Exercises"
   ]
  },
  {
   "cell_type": "markdown",
   "metadata": {},
   "source": [
    "# Theoretical exercises\n",
    "\n",
    "***Exercise 1***: How many terms are there in the sum on slide 37 from the lecture on Nov 13 for computing $P({\\bf X}|\\Theta)$? Why?\n",
    "\n"
   ]
  },
  {
   "cell_type": "markdown",
   "metadata": {},
   "source": [
    "***Exercise 2***: How many terms are there in the maximization on slide 4 from the lecure on Nov 20 for computing the Viterbi decoding ${\\bf Z}^*$? Why?\n",
    "\n"
   ]
  },
  {
   "cell_type": "markdown",
   "metadata": {},
   "source": [
    "***Exercise 3***: Where in the derivation of $\\omega({\\bf z}_n$) on slide 8 do we use that the fact that we are working with hidden Markov models? And how do we use it?"
   ]
  },
  {
   "cell_type": "markdown",
   "metadata": {},
   "source": [
    "# Practical exercises\n",
    "\n",
    "You are given the same 7-state HMM and helper functions that you used last week:"
   ]
  },
  {
   "cell_type": "code",
   "execution_count": 155,
   "metadata": {},
   "outputs": [],
   "source": [
    "class hmm:\n",
    "    def __init__(self, init_probs, trans_probs, emission_probs):\n",
    "        self.init_probs = init_probs\n",
    "        self.trans_probs = trans_probs\n",
    "        self.emission_probs = emission_probs"
   ]
  },
  {
   "cell_type": "code",
   "execution_count": 156,
   "metadata": {},
   "outputs": [],
   "source": [
    "init_probs_7_state = [0.00, 0.00, 0.00, 1.00, 0.00, 0.00, 0.00]\n",
    "\n",
    "trans_probs_7_state = [\n",
    "    [0.00, 0.00, 0.90, 0.10, 0.00, 0.00, 0.00],\n",
    "    [1.00, 0.00, 0.00, 0.00, 0.00, 0.00, 0.00],\n",
    "    [0.00, 1.00, 0.00, 0.00, 0.00, 0.00, 0.00],\n",
    "    [0.00, 0.00, 0.05, 0.90, 0.05, 0.00, 0.00],\n",
    "    [0.00, 0.00, 0.00, 0.00, 0.00, 1.00, 0.00],\n",
    "    [0.00, 0.00, 0.00, 0.00, 0.00, 0.00, 1.00],\n",
    "    [0.00, 0.00, 0.00, 0.10, 0.90, 0.00, 0.00],\n",
    "]\n",
    "\n",
    "emission_probs_7_state = [\n",
    "    #   A     C     G     T\n",
    "    [0.30, 0.25, 0.25, 0.20],\n",
    "    [0.20, 0.35, 0.15, 0.30],\n",
    "    [0.40, 0.15, 0.20, 0.25],\n",
    "    [0.25, 0.25, 0.25, 0.25],\n",
    "    [0.20, 0.40, 0.30, 0.10],\n",
    "    [0.30, 0.20, 0.30, 0.20],\n",
    "    [0.15, 0.30, 0.20, 0.35],\n",
    "]\n",
    "\n",
    "hmm_7_state = hmm(init_probs_7_state, trans_probs_7_state, emission_probs_7_state)"
   ]
  },
  {
   "cell_type": "code",
   "execution_count": 157,
   "metadata": {},
   "outputs": [],
   "source": [
    "def translate_observations_to_indices(obs):\n",
    "    mapping = {'a': 0, 'c': 1, 'g': 2, 't': 3}\n",
    "    return [mapping[symbol.lower()] for symbol in obs]\n",
    "\n",
    "def translate_indices_to_observations(indices):\n",
    "    mapping = ['a', 'c', 'g', 't']\n",
    "    return ''.join(mapping[idx] for idx in indices)\n",
    "\n",
    "def translate_path_to_indices(path):\n",
    "    return list(map(lambda x: int(x), path))\n",
    "\n",
    "def translate_indices_to_path(indices):\n",
    "    return ''.join([str(i) for i in indices])"
   ]
  },
  {
   "cell_type": "markdown",
   "metadata": {
    "collapsed": true
   },
   "source": [
    "# 1 - Viterbi Decoding"
   ]
  },
  {
   "cell_type": "markdown",
   "metadata": {},
   "source": [
    "Below you will implement and experiment with the Viterbi algorithm. The implementation has been split into three parts:\n",
    "\n",
    "1. Fill out the $\\omega$ table using the recursion presented at the lecture.\n",
    "2. Find the state with the highest probability after observing the entire sequence of observations.\n",
    "3. Backtrack from the state found in the previous step to obtain the optimal path.\n",
    "\n",
    "We'll be working with the 7-state model (`hmm_7_state`) and the helper function for translating between observations, hidden states, and indicies, as introduced above (and also used last week)."
   ]
  },
  {
   "cell_type": "markdown",
   "metadata": {},
   "source": [
    "Additionally, you're given the function below that constructs a table of a specific size filled with zeros."
   ]
  },
  {
   "cell_type": "code",
   "execution_count": 158,
   "metadata": {
    "collapsed": true
   },
   "outputs": [],
   "source": [
    "def make_table(m, n):\n",
    "    \"\"\"Make a table with `m` rows and `n` columns filled with zeros.\"\"\"\n",
    "    return [[0] * n for _ in range(m)]\n",
    "\n",
    "def pretty_table(table):\n",
    "    for row in table:\n",
    "        print('| {:^10} | {:^10} | {:^10} | {:^10} |'.format(*row))"
   ]
  },
  {
   "cell_type": "markdown",
   "metadata": {},
   "source": [
    "You'll be testing your code with the same two sequences as last week, i.e:"
   ]
  },
  {
   "cell_type": "code",
   "execution_count": 159,
   "metadata": {
    "collapsed": true
   },
   "outputs": [],
   "source": [
    "x_short = 'GTTTCCCAGTGTATATCGAGGGATACTACGTGCATAGTAACATCGGCCAA'\n",
    "z_short = '33333333333321021021021021021021021021021021021021'"
   ]
  },
  {
   "cell_type": "code",
   "execution_count": 160,
   "metadata": {
    "collapsed": true
   },
   "outputs": [],
   "source": [
    "x_long = 'TGAGTATCACTTAGGTCTATGTCTAGTCGTCTTTCGTAATGTTTGGTCTTGTCACCAGTTATCCTATGGCGCTCCGAGTCTGGTTCTCGAAATAAGCATCCCCGCCCAAGTCATGCACCCGTTTGTGTTCTTCGCCGACTTGAGCGACTTAATGAGGATGCCACTCGTCACCATCTTGAACATGCCACCAACGAGGTTGCCGCCGTCCATTATAACTACAACCTAGACAATTTTCGCTTTAGGTCCATTCACTAGGCCGAAATCCGCTGGAGTAAGCACAAAGCTCGTATAGGCAAAACCGACTCCATGAGTCTGCCTCCCGACCATTCCCATCAAAATACGCTATCAATACTAAAAAAATGACGGTTCAGCCTCACCCGGATGCTCGAGACAGCACACGGACATGATAGCGAACGTGACCAGTGTAGTGGCCCAGGGGAACCGCCGCGCCATTTTGTTCATGGCCCCGCTGCCGAATATTTCGATCCCAGCTAGAGTAATGACCTGTAGCTTAAACCCACTTTTGGCCCAAACTAGAGCAACAATCGGAATGGCTGAAGTGAATGCCGGCATGCCCTCAGCTCTAAGCGCCTCGATCGCAGTAATGACCGTCTTAACATTAGCTCTCAACGCTATGCAGTGGCTTTGGTGTCGCTTACTACCAGTTCCGAACGTCTCGGGGGTCTTGATGCAGCGCACCACGATGCCAAGCCACGCTGAATCGGGCAGCCAGCAGGATCGTTACAGTCGAGCCCACGGCAATGCGAGCCGTCACGTTGCCGAATATGCACTGCGGGACTACGGACGCAGGGCCGCCAACCATCTGGTTGACGATAGCCAAACACGGTCCAGAGGTGCCCCATCTCGGTTATTTGGATCGTAATTTTTGTGAAGAACACTGCAAACGCAAGTGGCTTTCCAGACTTTACGACTATGTGCCATCATTTAAGGCTACGACCCGGCTTTTAAGACCCCCACCACTAAATAGAGGTACATCTGA'\n",
    "z_long = '3333321021021021021021021021021021021021021021021021021021021021021021033333333334564564564564564564564564564564564564564564564564564564564564564564564564564564564564564564564564564564564564564564564564564564563210210210210210210210210210210210210210210210210210210210210210210210210210210210210210210210210210210210210210210210210210210210321021021021021021021021033334564564564564564564564564564564564564564564564564564564564564564564564564564564564564564564564564564564564564564564564564564564564564564564564564564564564564564564564564564564564564564564564564564564564564564564564564564564564564564564564564564564564564564564564564564564564564564564564564564564564564564564564564564564564564564564564564564564564563333333456456456456456456456456456456456456456456456456456456456456456456456456456456456456456456456456456456456456456456332102102102102102102102102102102102102102102102102102102102102102102102102102102102102102102102103210210210210210210210210210210210210210210210210210210210210210'"
   ]
  },
  {
   "cell_type": "markdown",
   "metadata": {},
   "source": [
    "Remember to translate these sequences to indices before using them with your algorithms."
   ]
  },
  {
   "cell_type": "markdown",
   "metadata": {},
   "source": [
    "## Implementing without log-transformation"
   ]
  },
  {
   "cell_type": "markdown",
   "metadata": {},
   "source": [
    "First, we will implement the algorithm without log-transformation. This will cause issues with numerical stability (like above when computing the joint probability), so we will use the log-transformation trick to fix this in the next section."
   ]
  },
  {
   "cell_type": "markdown",
   "metadata": {},
   "source": [
    "### Computation of the $\\omega$ table"
   ]
  },
  {
   "cell_type": "code",
   "execution_count": 161,
   "metadata": {
    "collapsed": true
   },
   "outputs": [],
   "source": [
    "def compute_w(model, x):\n",
    "    x = translate_observations_to_indices(x)\n",
    "    k_count = len(model.init_probs)\n",
    "    n = len(x)\n",
    "    \n",
    "    w = make_table(k_count, n)\n",
    "    \n",
    "    # Base case: fill out w[i][0] for i = 0..k-1\n",
    "    for j in range(k_count):\n",
    "        ip = model.init_probs[j]\n",
    "        ep = model.emission_probs[j][0]\n",
    "        w[j][0] = ip * ep\n",
    "    \n",
    "    # Inductive case: fill out w[i][j] for i = 0..k, j = 0..n-1\n",
    "    for i in range(1, n):\n",
    "        for j in range(k_count):\n",
    "            max_prob = 0\n",
    "            \n",
    "            for k in range(k_count):\n",
    "                tp = model.trans_probs[k][j]\n",
    "                ep = model.emission_probs[j][x[i]]\n",
    "                prob = w[k][i-1] * tp * ep\n",
    "                \n",
    "                if prob > max_prob:\n",
    "                    max_prob = prob\n",
    "            \n",
    "            w[j][i] = max_prob\n",
    "    return w"
   ]
  },
  {
   "cell_type": "markdown",
   "metadata": {},
   "source": [
    "### Finding the joint probability of an optimal path"
   ]
  },
  {
   "cell_type": "markdown",
   "metadata": {},
   "source": [
    "Now, write a function that given the $\\omega$-table, returns the probability of an optimal path through the HMM. As explained in the lecture, this corresponds to finding the highest probability in the last column of the table."
   ]
  },
  {
   "cell_type": "code",
   "execution_count": 162,
   "metadata": {
    "collapsed": true
   },
   "outputs": [],
   "source": [
    "def opt_path_prob(w):\n",
    "    k_count = len(w)\n",
    "    max_prob = 0\n",
    "    \n",
    "    for j in range(k_count):\n",
    "        if w[j][-1] > max_prob:\n",
    "            max_prob = w[j][-1]\n",
    "    return max_prob"
   ]
  },
  {
   "cell_type": "markdown",
   "metadata": {},
   "source": [
    "Now test your implementation in the box below:"
   ]
  },
  {
   "cell_type": "code",
   "execution_count": 163,
   "metadata": {
    "collapsed": true
   },
   "outputs": [
    {
     "data": {
      "text/plain": [
       "1.9114255184318858e-31"
      ]
     },
     "execution_count": 163,
     "metadata": {},
     "output_type": "execute_result"
    }
   ],
   "source": [
    "w = compute_w(hmm_7_state, x_short)\n",
    "opt_path_prob(w)"
   ]
  },
  {
   "cell_type": "markdown",
   "metadata": {},
   "source": [
    "Now do the same for `x_long`. What happens?"
   ]
  },
  {
   "cell_type": "code",
   "execution_count": 164,
   "metadata": {
    "collapsed": true
   },
   "outputs": [
    {
     "data": {
      "text/plain": [
       "0"
      ]
     },
     "execution_count": 164,
     "metadata": {},
     "output_type": "execute_result"
    }
   ],
   "source": [
    "w = compute_w(hmm_7_state, x_long)\n",
    "opt_path_prob(w)"
   ]
  },
  {
   "cell_type": "markdown",
   "metadata": {},
   "source": [
    "### Obtaining an optimal path through backtracking"
   ]
  },
  {
   "cell_type": "markdown",
   "metadata": {},
   "source": [
    "Implement backtracking to find a most probable path of hidden states given the $\\omega$-table."
   ]
  },
  {
   "cell_type": "code",
   "execution_count": 165,
   "metadata": {
    "collapsed": true
   },
   "outputs": [],
   "source": [
    "def backtrack(model, x, w):\n",
    "    x = translate_observations_to_indices(x)\n",
    "    n = len(w[0])\n",
    "    k_count = len(w)\n",
    "    max_prob = 0\n",
    "    max_prob_k = None\n",
    "    \n",
    "    for k in range(k_count):\n",
    "        if w[k][-1] > max_prob:\n",
    "            max_prob = w[k][-1]\n",
    "            max_prob_k = k\n",
    "            \n",
    "    path = f'{max_prob_k}' \n",
    "    \n",
    "    previous_k = max_prob_k\n",
    "    previous_max_prob = max_prob\n",
    "    \n",
    "    #print(-1, previous_k, previous_max_prob)\n",
    "    #print(path)\n",
    "    \n",
    "    for i in range(-2, -n-1, -1):\n",
    "        for k in range(k_count):\n",
    "            \n",
    "            tp = model.trans_probs[k][previous_k]\n",
    "            ep = model.emission_probs[previous_k][x[i+1]]\n",
    "            \n",
    "            prob = w[k][i] * tp * ep\n",
    "                \n",
    "            #print(i, k, prob, previous_max_prob)\n",
    "            if math.isclose(prob, previous_max_prob):\n",
    "                path = f'{k}{path}'\n",
    "                previous_max_prob = w[k][i]\n",
    "                previous_k = k\n",
    "                #print(previous_max_prob, previous_k)\n",
    "        #print(path)\n",
    "            \n",
    "    return path"
   ]
  },
  {
   "cell_type": "code",
   "execution_count": 166,
   "metadata": {
    "collapsed": true
   },
   "outputs": [
    {
     "name": "stdout",
     "output_type": "stream",
     "text": [
      "1.9114255184318858e-31\n"
     ]
    },
    {
     "data": {
      "text/plain": [
       "'33333333333321021021021021021021021021021021021021'"
      ]
     },
     "execution_count": 166,
     "metadata": {},
     "output_type": "execute_result"
    }
   ],
   "source": [
    "w = compute_w(hmm_7_state, x_short)\n",
    "print(opt_path_prob(w))\n",
    "z_viterbi = backtrack(hmm_7_state, x_short, w)\n",
    "\n",
    "z_viterbi"
   ]
  },
  {
   "cell_type": "markdown",
   "metadata": {},
   "source": [
    "Now do the same for `x_long`. What happens?"
   ]
  },
  {
   "cell_type": "code",
   "execution_count": 167,
   "metadata": {
    "collapsed": true
   },
   "outputs": [
    {
     "name": "stdout",
     "output_type": "stream",
     "text": [
      "0\n"
     ]
    },
    {
     "ename": "TypeError",
     "evalue": "list indices must be integers or slices, not NoneType",
     "output_type": "error",
     "traceback": [
      "\u001b[0;31m---------------------------------------------------------------------------\u001b[0m",
      "\u001b[0;31mTypeError\u001b[0m                                 Traceback (most recent call last)",
      "\u001b[1;32m/Users/lauraskak/Desktop/CTiB/TØ/TO-SCRIPTS/TO12/lauraS-ctib-week12-exercises-viterbi-e2023 copy.ipynb Cell 34\u001b[0m line \u001b[0;36m3\n\u001b[1;32m      <a href='vscode-notebook-cell:/Users/lauraskak/Desktop/CTiB/T%C3%98/TO-SCRIPTS/TO12/lauraS-ctib-week12-exercises-viterbi-e2023%20copy.ipynb#Y156sZmlsZQ%3D%3D?line=0'>1</a>\u001b[0m w \u001b[39m=\u001b[39m compute_w(hmm_7_state, x_long)\n\u001b[1;32m      <a href='vscode-notebook-cell:/Users/lauraskak/Desktop/CTiB/T%C3%98/TO-SCRIPTS/TO12/lauraS-ctib-week12-exercises-viterbi-e2023%20copy.ipynb#Y156sZmlsZQ%3D%3D?line=1'>2</a>\u001b[0m \u001b[39mprint\u001b[39m(opt_path_prob(w))\n\u001b[0;32m----> <a href='vscode-notebook-cell:/Users/lauraskak/Desktop/CTiB/T%C3%98/TO-SCRIPTS/TO12/lauraS-ctib-week12-exercises-viterbi-e2023%20copy.ipynb#Y156sZmlsZQ%3D%3D?line=2'>3</a>\u001b[0m z_viterbi \u001b[39m=\u001b[39m backtrack(hmm_7_state, x_long, w)\n\u001b[1;32m      <a href='vscode-notebook-cell:/Users/lauraskak/Desktop/CTiB/T%C3%98/TO-SCRIPTS/TO12/lauraS-ctib-week12-exercises-viterbi-e2023%20copy.ipynb#Y156sZmlsZQ%3D%3D?line=4'>5</a>\u001b[0m z_viterbi\n",
      "\u001b[1;32m/Users/lauraskak/Desktop/CTiB/TØ/TO-SCRIPTS/TO12/lauraS-ctib-week12-exercises-viterbi-e2023 copy.ipynb Cell 34\u001b[0m line \u001b[0;36m2\n\u001b[1;32m     <a href='vscode-notebook-cell:/Users/lauraskak/Desktop/CTiB/T%C3%98/TO-SCRIPTS/TO12/lauraS-ctib-week12-exercises-viterbi-e2023%20copy.ipynb#Y156sZmlsZQ%3D%3D?line=20'>21</a>\u001b[0m \u001b[39mfor\u001b[39;00m i \u001b[39min\u001b[39;00m \u001b[39mrange\u001b[39m(\u001b[39m-\u001b[39m\u001b[39m2\u001b[39m, \u001b[39m-\u001b[39mn\u001b[39m-\u001b[39m\u001b[39m1\u001b[39m, \u001b[39m-\u001b[39m\u001b[39m1\u001b[39m):\n\u001b[1;32m     <a href='vscode-notebook-cell:/Users/lauraskak/Desktop/CTiB/T%C3%98/TO-SCRIPTS/TO12/lauraS-ctib-week12-exercises-viterbi-e2023%20copy.ipynb#Y156sZmlsZQ%3D%3D?line=21'>22</a>\u001b[0m     \u001b[39mfor\u001b[39;00m k \u001b[39min\u001b[39;00m \u001b[39mrange\u001b[39m(k_count):\n\u001b[0;32m---> <a href='vscode-notebook-cell:/Users/lauraskak/Desktop/CTiB/T%C3%98/TO-SCRIPTS/TO12/lauraS-ctib-week12-exercises-viterbi-e2023%20copy.ipynb#Y156sZmlsZQ%3D%3D?line=23'>24</a>\u001b[0m         tp \u001b[39m=\u001b[39m model\u001b[39m.\u001b[39;49mtrans_probs[k][previous_k]\n\u001b[1;32m     <a href='vscode-notebook-cell:/Users/lauraskak/Desktop/CTiB/T%C3%98/TO-SCRIPTS/TO12/lauraS-ctib-week12-exercises-viterbi-e2023%20copy.ipynb#Y156sZmlsZQ%3D%3D?line=24'>25</a>\u001b[0m         ep \u001b[39m=\u001b[39m model\u001b[39m.\u001b[39memission_probs[previous_k][x[i\u001b[39m+\u001b[39m\u001b[39m1\u001b[39m]]\n\u001b[1;32m     <a href='vscode-notebook-cell:/Users/lauraskak/Desktop/CTiB/T%C3%98/TO-SCRIPTS/TO12/lauraS-ctib-week12-exercises-viterbi-e2023%20copy.ipynb#Y156sZmlsZQ%3D%3D?line=26'>27</a>\u001b[0m         prob \u001b[39m=\u001b[39m w[k][i] \u001b[39m*\u001b[39m tp \u001b[39m*\u001b[39m ep\n",
      "\u001b[0;31mTypeError\u001b[0m: list indices must be integers or slices, not NoneType"
     ]
    }
   ],
   "source": [
    "w = compute_w(hmm_7_state, x_long)\n",
    "print(opt_path_prob(w))\n",
    "z_viterbi = backtrack(hmm_7_state, x_long, w)\n",
    "\n",
    "z_viterbi"
   ]
  },
  {
   "cell_type": "markdown",
   "metadata": {},
   "source": [
    "## Implementing with log-transformation"
   ]
  },
  {
   "cell_type": "markdown",
   "metadata": {},
   "source": [
    "Now implement the Viterbi algorithm with log-transformation. The steps are the same as above."
   ]
  },
  {
   "cell_type": "markdown",
   "metadata": {},
   "source": [
    "### Computation of the (log-transformed) $\\omega$ table"
   ]
  },
  {
   "cell_type": "code",
   "execution_count": 170,
   "metadata": {
    "collapsed": true
   },
   "outputs": [],
   "source": [
    "def compute_w_log(model, x):\n",
    "    x = translate_observations_to_indices(x)\n",
    "    k_count = len(model.init_probs)\n",
    "    n = len(x)\n",
    "    \n",
    "    w = make_table(k_count, n)\n",
    "    \n",
    "    # Base case: fill out w[i][0] for i = 0..k-1\n",
    "    for j in range(k_count):\n",
    "        ip = model.init_probs[j]\n",
    "        ep = model.emission_probs[j][0]\n",
    "        w[j][0] = log(ip) + log(ep)\n",
    "    \n",
    "    # Inductive case: fill out w[i][j] for i = 0..k, j = 0..n-1\n",
    "    for i in range(1, n):\n",
    "        for j in range(k_count):\n",
    "            max_prob = float('-inf')\n",
    "            \n",
    "            for k in range(k_count):\n",
    "                tp = model.trans_probs[k][j]\n",
    "                ep = model.emission_probs[j][x[i]]\n",
    "                prob = w[k][i-1] + log(tp) + log(ep)\n",
    "                \n",
    "                if prob > max_prob:\n",
    "                    max_prob = prob\n",
    "            \n",
    "            w[j][i] = max_prob\n",
    "    return w"
   ]
  },
  {
   "cell_type": "markdown",
   "metadata": {},
   "source": [
    "### Finding the (log-transformed) joint probability of an optimal path"
   ]
  },
  {
   "cell_type": "code",
   "execution_count": null,
   "metadata": {
    "collapsed": true
   },
   "outputs": [],
   "source": [
    "def opt_path_prob_log(w):\n",
    "    k_count = len(w)\n",
    "    max_prob = float('-inf')\n",
    "    \n",
    "    for j in range(k_count):\n",
    "        if w[j][-1] > max_prob:\n",
    "            max_prob = w[j][-1]\n",
    "    return max_prob"
   ]
  },
  {
   "cell_type": "code",
   "execution_count": null,
   "metadata": {
    "collapsed": true
   },
   "outputs": [
    {
     "data": {
      "text/plain": [
       "-70.73228857440488"
      ]
     },
     "execution_count": 122,
     "metadata": {},
     "output_type": "execute_result"
    }
   ],
   "source": [
    "w = compute_w_log(hmm_7_state, x_short)\n",
    "opt_path_prob_log(w)"
   ]
  },
  {
   "cell_type": "markdown",
   "metadata": {},
   "source": [
    "Now do the same for `x_long`. What happens?"
   ]
  },
  {
   "cell_type": "code",
   "execution_count": null,
   "metadata": {
    "collapsed": true
   },
   "outputs": [
    {
     "data": {
      "text/plain": [
       "-1406.7209253880144"
      ]
     },
     "execution_count": 123,
     "metadata": {},
     "output_type": "execute_result"
    }
   ],
   "source": [
    "w = compute_w_log(hmm_7_state, x_long)\n",
    "opt_path_prob_log(w)"
   ]
  },
  {
   "cell_type": "markdown",
   "metadata": {},
   "source": [
    "### Obtaining an optimal path through backtracking"
   ]
  },
  {
   "cell_type": "code",
   "execution_count": null,
   "metadata": {
    "collapsed": true
   },
   "outputs": [],
   "source": [
    "def backtrack_log(model, x, w):\n",
    "    x = translate_observations_to_indices(x)\n",
    "    n = len(w[0])\n",
    "    k_count = len(w)\n",
    "    max_prob = float('-inf')\n",
    "    max_prob_k = None\n",
    "    \n",
    "    for k in range(k_count):\n",
    "        if w[k][-1] > max_prob:\n",
    "            max_prob = w[k][-1]\n",
    "            max_prob_k = k\n",
    "            \n",
    "    path = f'{max_prob_k}' \n",
    "    \n",
    "    previous_k = max_prob_k\n",
    "    previous_max_prob = max_prob\n",
    "    \n",
    "    #print(-1, previous_k, previous_max_prob)\n",
    "    #print(path)\n",
    "    \n",
    "    for i in range(-2, -n-1, -1):\n",
    "        for k in range(k_count):\n",
    "            \n",
    "            tp = model.trans_probs[k][previous_k]\n",
    "            ep = model.emission_probs[previous_k][x[i+1]]\n",
    "            \n",
    "            prob = w[k][i] + log(tp) + log(ep)\n",
    "                \n",
    "            #print(i, k, prob, previous_max_prob)\n",
    "            if math.isclose(prob, previous_max_prob):\n",
    "                path = f'{k}{path}'\n",
    "                previous_max_prob = w[k][i]\n",
    "                previous_k = k\n",
    "                #print(previous_max_prob, previous_k)\n",
    "        #print(path)\n",
    "            \n",
    "    return path"
   ]
  },
  {
   "cell_type": "code",
   "execution_count": null,
   "metadata": {
    "collapsed": true
   },
   "outputs": [
    {
     "data": {
      "text/plain": [
       "'33333333333321021021021021021021021021021021021021'"
      ]
     },
     "execution_count": 128,
     "metadata": {},
     "output_type": "execute_result"
    }
   ],
   "source": [
    "w = compute_w_log(hmm_7_state, x_short)\n",
    "z_viterbi_log = backtrack_log(hmm_7_state, x_short, w)\n",
    "\n",
    "z_viterbi_log"
   ]
  },
  {
   "cell_type": "markdown",
   "metadata": {},
   "source": [
    "Now do the same for `x_long`. What happens?"
   ]
  },
  {
   "cell_type": "code",
   "execution_count": null,
   "metadata": {
    "collapsed": true
   },
   "outputs": [
    {
     "data": {
      "text/plain": [
       "'3333321021021021021021021021021021021021021021021021021021021021021021033333333334564564564564564564564564564564564564564564564564564564564564564564564564564564564564564564564564564564564564564564564564564564563210210210210210210210210210210210210210210210210210210210210210210210210210210210210210210210210210210210210210210210210210210210321021021021021021021021033334564564564564564564564564564564564564564564564564564564564564564564564564564564564564564564564564564564564564564564564564564564564564564564564564564564564564564564564564564564564564564564564564564564564564564564564564564564564564564564564564564564564564564564564564564564564564564564564564564564564564564564564564564564564564564564564564564564564563333333456456456456456456456456456456456456456456456456456456456456456456456456456456456456456456456456456456456456456456332102102102102102102102102102102102102102102102102102102102102102102102102102102102102102102102103210210210210210210210210210210210210210210210210210210210210210'"
      ]
     },
     "execution_count": 129,
     "metadata": {},
     "output_type": "execute_result"
    }
   ],
   "source": [
    "w = compute_w_log(hmm_7_state, x_long)\n",
    "z_viterbi_log = backtrack_log(hmm_7_state, x_long, w)\n",
    "\n",
    "z_viterbi_log"
   ]
  },
  {
   "cell_type": "markdown",
   "metadata": {},
   "source": [
    "### Does it work?"
   ]
  },
  {
   "cell_type": "markdown",
   "metadata": {},
   "source": [
    "Think about how to verify that your implementations of Viterbi (i.e. `compute_w`, `opt_path_prob`, `backtrack`, and there log-transformed variants `compute_w_log`, `opt_path_prob_log`, `backtrack_log`) are correct.\n",
    "\n",
    "One thing that should hold is that the probability of a most likely path as computed by `opt_path_prob` (or `opt_path_prob_log`) for a given sequence of observables (e.g. `x_short` or `x_long`) should be equal to the joint probability of a corersponding most probable path as found by `backtrack` (or `backtrack_log`) and the given sequence of observables. Why?\n",
    "\n",
    "Make an experiment that validates that this is the case for your implementations of Viterbi and `x_short` and `x_long`."
   ]
  },
  {
   "cell_type": "code",
   "execution_count": 171,
   "metadata": {
    "collapsed": true
   },
   "outputs": [
    {
     "name": "stdout",
     "output_type": "stream",
     "text": [
      "1.9114255184318858e-31\n",
      "1.9114255184318882e-31\n"
     ]
    },
    {
     "ename": "TypeError",
     "evalue": "list indices must be integers or slices, not str",
     "output_type": "error",
     "traceback": [
      "\u001b[0;31m---------------------------------------------------------------------------\u001b[0m",
      "\u001b[0;31mTypeError\u001b[0m                                 Traceback (most recent call last)",
      "\u001b[1;32m/Users/lauraskak/Desktop/CTiB/TØ/TO-SCRIPTS/TO12/lauraS-ctib-week12-exercises-viterbi-e2023 copy.ipynb Cell 51\u001b[0m line \u001b[0;36m4\n\u001b[1;32m     <a href='vscode-notebook-cell:/Users/lauraskak/Desktop/CTiB/T%C3%98/TO-SCRIPTS/TO12/lauraS-ctib-week12-exercises-viterbi-e2023%20copy.ipynb#Y102sZmlsZQ%3D%3D?line=43'>44</a>\u001b[0m \u001b[39m# Check that opt_path_prob_log is equal to joint_prob_log(hmm_7_state, x_short, z_viterbi_log)\u001b[39;00m\n\u001b[1;32m     <a href='vscode-notebook-cell:/Users/lauraskak/Desktop/CTiB/T%C3%98/TO-SCRIPTS/TO12/lauraS-ctib-week12-exercises-viterbi-e2023%20copy.ipynb#Y102sZmlsZQ%3D%3D?line=44'>45</a>\u001b[0m w \u001b[39m=\u001b[39m compute_w_log(hmm_7_state, x_short)\n\u001b[0;32m---> <a href='vscode-notebook-cell:/Users/lauraskak/Desktop/CTiB/T%C3%98/TO-SCRIPTS/TO12/lauraS-ctib-week12-exercises-viterbi-e2023%20copy.ipynb#Y102sZmlsZQ%3D%3D?line=45'>46</a>\u001b[0m z_viterbi_log \u001b[39m=\u001b[39m backtrack_log(hmm_7_state, x_short, w)\n\u001b[1;32m     <a href='vscode-notebook-cell:/Users/lauraskak/Desktop/CTiB/T%C3%98/TO-SCRIPTS/TO12/lauraS-ctib-week12-exercises-viterbi-e2023%20copy.ipynb#Y102sZmlsZQ%3D%3D?line=47'>48</a>\u001b[0m \u001b[39mprint\u001b[39m(opt_path_prob_log(w))\n\u001b[1;32m     <a href='vscode-notebook-cell:/Users/lauraskak/Desktop/CTiB/T%C3%98/TO-SCRIPTS/TO12/lauraS-ctib-week12-exercises-viterbi-e2023%20copy.ipynb#Y102sZmlsZQ%3D%3D?line=48'>49</a>\u001b[0m \u001b[39m# print(joint_prob_log(hmm_7_state, x_short, z_viterbi_log))\u001b[39;00m\n\u001b[1;32m     <a href='vscode-notebook-cell:/Users/lauraskak/Desktop/CTiB/T%C3%98/TO-SCRIPTS/TO12/lauraS-ctib-week12-exercises-viterbi-e2023%20copy.ipynb#Y102sZmlsZQ%3D%3D?line=49'>50</a>\u001b[0m \n\u001b[1;32m     <a href='vscode-notebook-cell:/Users/lauraskak/Desktop/CTiB/T%C3%98/TO-SCRIPTS/TO12/lauraS-ctib-week12-exercises-viterbi-e2023%20copy.ipynb#Y102sZmlsZQ%3D%3D?line=50'>51</a>\u001b[0m \u001b[39m# # Do the above checks for x_long ...\u001b[39;00m\n\u001b[0;32m   (...)\u001b[0m\n\u001b[1;32m     <a href='vscode-notebook-cell:/Users/lauraskak/Desktop/CTiB/T%C3%98/TO-SCRIPTS/TO12/lauraS-ctib-week12-exercises-viterbi-e2023%20copy.ipynb#Y102sZmlsZQ%3D%3D?line=61'>62</a>\u001b[0m \u001b[39m# print(opt_path_prob_log(w))\u001b[39;00m\n\u001b[1;32m     <a href='vscode-notebook-cell:/Users/lauraskak/Desktop/CTiB/T%C3%98/TO-SCRIPTS/TO12/lauraS-ctib-week12-exercises-viterbi-e2023%20copy.ipynb#Y102sZmlsZQ%3D%3D?line=62'>63</a>\u001b[0m \u001b[39m# print(joint_prob_log(hmm_7_state, x_long, z_viterbi_log))\u001b[39;00m\n",
      "\u001b[1;32m/Users/lauraskak/Desktop/CTiB/TØ/TO-SCRIPTS/TO12/lauraS-ctib-week12-exercises-viterbi-e2023 copy.ipynb Cell 51\u001b[0m line \u001b[0;36m2\n\u001b[1;32m     <a href='vscode-notebook-cell:/Users/lauraskak/Desktop/CTiB/T%C3%98/TO-SCRIPTS/TO12/lauraS-ctib-week12-exercises-viterbi-e2023%20copy.ipynb#Y102sZmlsZQ%3D%3D?line=20'>21</a>\u001b[0m \u001b[39mfor\u001b[39;00m k \u001b[39min\u001b[39;00m \u001b[39mrange\u001b[39m(k_count):\n\u001b[1;32m     <a href='vscode-notebook-cell:/Users/lauraskak/Desktop/CTiB/T%C3%98/TO-SCRIPTS/TO12/lauraS-ctib-week12-exercises-viterbi-e2023%20copy.ipynb#Y102sZmlsZQ%3D%3D?line=22'>23</a>\u001b[0m     tp \u001b[39m=\u001b[39m model\u001b[39m.\u001b[39mtrans_probs[k][previous_k]\n\u001b[0;32m---> <a href='vscode-notebook-cell:/Users/lauraskak/Desktop/CTiB/T%C3%98/TO-SCRIPTS/TO12/lauraS-ctib-week12-exercises-viterbi-e2023%20copy.ipynb#Y102sZmlsZQ%3D%3D?line=23'>24</a>\u001b[0m     ep \u001b[39m=\u001b[39m model\u001b[39m.\u001b[39;49memission_probs[previous_k][x[i\u001b[39m+\u001b[39;49m\u001b[39m1\u001b[39;49m]]\n\u001b[1;32m     <a href='vscode-notebook-cell:/Users/lauraskak/Desktop/CTiB/T%C3%98/TO-SCRIPTS/TO12/lauraS-ctib-week12-exercises-viterbi-e2023%20copy.ipynb#Y102sZmlsZQ%3D%3D?line=25'>26</a>\u001b[0m     prob \u001b[39m=\u001b[39m w[k][i] \u001b[39m+\u001b[39m log(tp) \u001b[39m+\u001b[39m log(ep)\n\u001b[1;32m     <a href='vscode-notebook-cell:/Users/lauraskak/Desktop/CTiB/T%C3%98/TO-SCRIPTS/TO12/lauraS-ctib-week12-exercises-viterbi-e2023%20copy.ipynb#Y102sZmlsZQ%3D%3D?line=27'>28</a>\u001b[0m     \u001b[39m#print(i, k, prob, previous_max_prob)\u001b[39;00m\n",
      "\u001b[0;31mTypeError\u001b[0m: list indices must be integers or slices, not str"
     ]
    }
   ],
   "source": [
    "# To access joint_prob and joint_prob_log, you must copy your implementations from last week here ...\n",
    "\n",
    "def joint_prob(model, x, z):\n",
    "    x = translate_observations_to_indices(x)\n",
    "    z = translate_path_to_indices(z)\n",
    "    acc_prob = None\n",
    "    \n",
    "    if len(x) > 0:\n",
    "        acc_prob = model.init_probs[z[0]] * model.emission_probs[z[0]][x[0]]\n",
    "        \n",
    "        for i in range(1, len(x)):\n",
    "            acc_prob *= model.trans_probs[z[i-1]][z[i]] * model.emission_probs[z[i]][x[i]]\n",
    "    \n",
    "    return acc_prob\n",
    "\n",
    "def joint_prob_log(model, x, z):\n",
    "    x = translate_observations_to_indices(x)\n",
    "    z = translate_path_to_indices(z)\n",
    "    acc_prob = None\n",
    "    \n",
    "    if len(x) > 0:\n",
    "        ip = model.init_probs[z[0]]\n",
    "        print(model.emission_probs)\n",
    "        print(model.emission_probs[z[0]][x[0]])\n",
    "        ep = model.emission_probs[z[0]][x[0]]\n",
    "        acc_prob = log(ip) + log(ep)\n",
    "        \n",
    "        for i in range(1, len(x)):\n",
    "            tp = model.trans_probs[z[i-1]][z[i]]\n",
    "            ep = model.emission_probs[z[i]][x[i]]\n",
    "            acc_prob += log(tp) + log(ep)\n",
    "    \n",
    "    return acc_prob\n",
    "\n",
    "\n",
    "# Check that opt_path_prob is equal to joint_prob(hmm_7_state, x_short, z_viterbi)\n",
    "\n",
    "w = compute_w(hmm_7_state, x_short)\n",
    "z_viterbi = backtrack(hmm_7_state, x_short, w)\n",
    "\n",
    "print(opt_path_prob(w))\n",
    "print(joint_prob(hmm_7_state, x_short, z_viterbi))\n",
    "\n",
    "# Check that opt_path_prob_log is equal to joint_prob_log(hmm_7_state, x_short, z_viterbi_log)\n",
    "w = compute_w_log(hmm_7_state, x_short)\n",
    "z_viterbi_log = backtrack_log(hmm_7_state, x_short, w)\n",
    "\n",
    "print(opt_path_prob_log(w))\n",
    "# print(joint_prob_log(hmm_7_state, x_short, z_viterbi_log))\n",
    "\n",
    "# # Do the above checks for x_long ...\n",
    "\n",
    "# w = compute_w(hmm_7_state, x_long)\n",
    "# z_viterbi = backtrack(hmm_7_state, x_long, w)\n",
    "\n",
    "# print(opt_path_prob(w))\n",
    "# print(joint_prob(hmm_7_state, x_long, z_viterbi))\n",
    "\n",
    "# w = compute_w_log(hmm_7_state, x_long)\n",
    "# z_viterbi_log = backtrack_log(hmm_7_state, x_long, w)\n",
    "\n",
    "# print(opt_path_prob_log(w))\n",
    "# print(joint_prob_log(hmm_7_state, x_long, z_viterbi_log))"
   ]
  },
  {
   "cell_type": "markdown",
   "metadata": {},
   "source": [
    "Do your implementations pass the above checks?"
   ]
  },
  {
   "cell_type": "markdown",
   "metadata": {},
   "source": [
    "### Does log-transformation matter?"
   ]
  },
  {
   "cell_type": "markdown",
   "metadata": {},
   "source": [
    "Make an experiment that investigates how long the input string can be before `backtrack` and `backtrack_log` start to disagree on a most likely path and its probability."
   ]
  },
  {
   "cell_type": "code",
   "execution_count": null,
   "metadata": {
    "collapsed": true
   },
   "outputs": [],
   "source": [
    "# Your code here ..."
   ]
  },
  {
   "cell_type": "markdown",
   "metadata": {},
   "source": [
    "**Your answer here:**\n",
    "\n",
    "For the 7-state model, `backtrack` and `backtrack_log` start to disagree on a most likely path and its probability for **i = ?** ."
   ]
  }
 ],
 "metadata": {
  "anaconda-cloud": {},
  "kernelspec": {
   "display_name": "Python 3 (ipykernel)",
   "language": "python",
   "name": "python3"
  },
  "language_info": {
   "codemirror_mode": {
    "name": "ipython",
    "version": 3
   },
   "file_extension": ".py",
   "mimetype": "text/x-python",
   "name": "python",
   "nbconvert_exporter": "python",
   "pygments_lexer": "ipython3",
   "version": "3.9.17"
  }
 },
 "nbformat": 4,
 "nbformat_minor": 1
}
