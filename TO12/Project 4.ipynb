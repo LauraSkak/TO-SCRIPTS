{
 "cells": [
  {
   "cell_type": "code",
   "execution_count": 46,
   "metadata": {},
   "outputs": [],
   "source": [
    "import math  # Just ignore this :-)\n",
    "\n",
    "def log(x):\n",
    "    if x == 0:\n",
    "        return float('-inf')\n",
    "    return math.log(x)"
   ]
  },
  {
   "cell_type": "markdown",
   "metadata": {},
   "source": [
    "# CTiB E2023 - Week 11 - Exercises"
   ]
  },
  {
   "cell_type": "markdown",
   "metadata": {},
   "source": [
    "# Theoretical exercises\n",
    "\n",
    "***Exercise 1***: How many terms are there in the sum on slide 37 from the lecture on Nov 13 for computing $P({\\bf X}|\\Theta)$? Why?\n",
    "\n"
   ]
  },
  {
   "cell_type": "markdown",
   "metadata": {},
   "source": [
    "*This equation is the probability of the observable sequence given a set of parameters $\\Theta$. To calculate this we need to find the sum of probabilities of all possible hiddens paths. For each of the hidden paths, Z, there is $2\\cdot N$ terms, since the first position need the initial probability and emission probability and all the rest needs transition probability and emission probability. If there are k hidden states, then there is $k^N$ possible hidden state paths. This gives us in total $2\\cdot N\\cdot k^N$ terms.*"
   ]
  },
  {
   "cell_type": "markdown",
   "metadata": {},
   "source": [
    "***Exercise 2***: How many terms are there in the maximization on slide 4 from the lecure on Nov 20 for computing the Viterbi decoding ${\\bf Z}^*$? Why?\n",
    "\n"
   ]
  },
  {
   "cell_type": "markdown",
   "metadata": {},
   "source": [
    "*To find the maximal path probability for a hidden state path you need to fill out the w-table. To do this you first fill the first column. This is done by taking the initial probability times the emission probability. You do this for K positions, so the first column takes $2 \\cdot K$ terms. For all, $N-1$, subsequent columns and for each of the $K$ position you calculate $K$ probabilites and fills in the max. This is means finding Z* takes $2\\cdot K+(N-1)\\cdot(K\\cdot(K\\cdot 2+1))$ terms.*"
   ]
  },
  {
   "cell_type": "markdown",
   "metadata": {},
   "source": [
    "***Exercise 3***: Where in the derivation of $\\omega({\\bf z}_n$) on slide 8 do we use that the fact that we are working with hidden Markov models? And how do we use it?"
   ]
  },
  {
   "cell_type": "markdown",
   "metadata": {},
   "source": [
    "*Already in the second step where we calculate the probability of the next position in the sequence only based on the state of the previous position.*"
   ]
  },
  {
   "cell_type": "markdown",
   "metadata": {},
   "source": [
    "***Exercise 4***: How many terms are there in the maximixation on slide 2 in the Posterior decoding slides from Nov 20 for computing ${\\bf z}^*_n$, i.e. the *n*th state in a posterior decoding? Why?\n",
    "\n"
   ]
  },
  {
   "cell_type": "markdown",
   "metadata": {},
   "source": [
    "*Even though the forward and the backward algorithm works differently they both need the sum of $K \\cdot 2$ terms to find the probability of a given position. Since there are K positions in each column and N columns; there are $N \\cdot K \\cdot (2 \\cdot K + 1)$ terms to find the $z_n^*$. <span style=\"color:red\">er ikke helt rigtig i think!</span>*\n",
    "\n",
    "Skal rettes til K"
   ]
  },
  {
   "cell_type": "markdown",
   "metadata": {},
   "source": [
    "***Exercise 5***: Why is $P({\\bf X}) = \\sum_{{\\bf z}_n} \\alpha({\\bf z}_n) \\beta({\\bf z}_n) = \\sum_{{\\bf z}_N} \\alpha({\\bf z}_N)$ as stated on slide 5 in the Posterior decoding slides?\n",
    "\n"
   ]
  },
  {
   "cell_type": "markdown",
   "metadata": {},
   "source": [
    "*Since each column of the table is the sum of probabilities of all paths leading to that position; the sum of each column should be close to 1. If it is not close to 1 that indicates that the model is not very good because the the observed sequence, X, is unlikely.<span style=\"color:red\">lidt mangelfuldt måske.</span>*\n",
    "\n",
    "Skal rettes "
   ]
  },
  {
   "cell_type": "markdown",
   "metadata": {},
   "source": [
    "***Exercise 6***: Algorithmic question: Slide 20 in the Posterior decoding slides shows how to compute $P({\\bf X})$ from $\\alpha({\\bf z}_N)$ in time $O(K^2N)$, i.e. the time it takes to compute the last (rightmost) colummn in the $\\alpha$-table. How much space do you need to compute this column? Do you need to store the entire $\\alpha$-table?"
   ]
  },
  {
   "cell_type": "markdown",
   "metadata": {},
   "source": [
    "*Because you can always calculate the next column based on the previous column you only have to save the last column. You therefore do not need to save the entire $\\alpha$-table; You can instead save the one column at a time to calculate the values for the next column. This means you can limit memory usage to two columns of $K$-length or $2\\cdot K$.<span style=\"color:red\">tænker dette er rigtigt</span>*"
   ]
  },
  {
   "cell_type": "markdown",
   "metadata": {},
   "source": [
    "# Practical exercises\n",
    "\n",
    "You are given the same 7-state HMM and helper functions that you used last week:"
   ]
  },
  {
   "cell_type": "code",
   "execution_count": 47,
   "metadata": {},
   "outputs": [],
   "source": [
    "class hmm:\n",
    "    def __init__(self, init_probs, trans_probs, emission_probs):\n",
    "        self.init_probs = init_probs\n",
    "        self.trans_probs = trans_probs\n",
    "        self.emission_probs = emission_probs"
   ]
  },
  {
   "cell_type": "code",
   "execution_count": 48,
   "metadata": {},
   "outputs": [],
   "source": [
    "init_probs_7_state = [0.00, 0.00, 0.00, 1.00, 0.00, 0.00, 0.00]\n",
    "\n",
    "trans_probs_7_state = [\n",
    "    [0.00, 0.00, 0.90, 0.10, 0.00, 0.00, 0.00],\n",
    "    [1.00, 0.00, 0.00, 0.00, 0.00, 0.00, 0.00],\n",
    "    [0.00, 1.00, 0.00, 0.00, 0.00, 0.00, 0.00],\n",
    "    [0.00, 0.00, 0.05, 0.90, 0.05, 0.00, 0.00],\n",
    "    [0.00, 0.00, 0.00, 0.00, 0.00, 1.00, 0.00],\n",
    "    [0.00, 0.00, 0.00, 0.00, 0.00, 0.00, 1.00],\n",
    "    [0.00, 0.00, 0.00, 0.10, 0.90, 0.00, 0.00],\n",
    "]\n",
    "\n",
    "emission_probs_7_state = [\n",
    "    #   A     C     G     T\n",
    "    [0.30, 0.25, 0.25, 0.20],\n",
    "    [0.20, 0.35, 0.15, 0.30],\n",
    "    [0.40, 0.15, 0.20, 0.25],\n",
    "    [0.25, 0.25, 0.25, 0.25],\n",
    "    [0.20, 0.40, 0.30, 0.10],\n",
    "    [0.30, 0.20, 0.30, 0.20],\n",
    "    [0.15, 0.30, 0.20, 0.35],\n",
    "]\n",
    "\n",
    "hmm_7_state = hmm(init_probs_7_state, trans_probs_7_state, emission_probs_7_state)"
   ]
  },
  {
   "cell_type": "code",
   "execution_count": 49,
   "metadata": {},
   "outputs": [],
   "source": [
    "def translate_observations_to_indices(obs):\n",
    "    mapping = {'a': 0, 'c': 1, 'g': 2, 't': 3}\n",
    "    return [mapping[symbol.lower()] for symbol in obs]\n",
    "\n",
    "def translate_indices_to_observations(indices):\n",
    "    mapping = ['a', 'c', 'g', 't']\n",
    "    return ''.join(mapping[idx] for idx in indices)\n",
    "\n",
    "def translate_path_to_indices(path):\n",
    "    return list(map(lambda x: int(x), path))\n",
    "\n",
    "def translate_indices_to_path(indices):\n",
    "    return ''.join([str(i) for i in indices])"
   ]
  },
  {
   "cell_type": "markdown",
   "metadata": {
    "collapsed": true
   },
   "source": [
    "# 1 - Viterbi Decoding"
   ]
  },
  {
   "cell_type": "markdown",
   "metadata": {},
   "source": [
    "Below you will implement and experiment with the Viterbi algorithm. The implementation has been split into three parts:\n",
    "\n",
    "1. Fill out the $\\omega$ table using the recursion presented at the lecture.\n",
    "2. Find the state with the highest probability after observing the entire sequence of observations.\n",
    "3. Backtrack from the state found in the previous step to obtain the optimal path.\n",
    "\n",
    "We'll be working with the 7-state model (`hmm_7_state`) and the helper function for translating between observations, hidden states, and indicies, as introduced above (and also used last week)."
   ]
  },
  {
   "cell_type": "markdown",
   "metadata": {},
   "source": [
    "Additionally, you're given the function below that constructs a table of a specific size filled with zeros."
   ]
  },
  {
   "cell_type": "code",
   "execution_count": 50,
   "metadata": {
    "collapsed": true
   },
   "outputs": [],
   "source": [
    "def make_table(m, n):\n",
    "    \"\"\"Make a table with `m` rows and `n` columns filled with zeros.\"\"\"\n",
    "    return [[0] * n for _ in range(m)]"
   ]
  },
  {
   "cell_type": "markdown",
   "metadata": {},
   "source": [
    "You'll be testing your code with the same two sequences as last week, i.e:"
   ]
  },
  {
   "cell_type": "code",
   "execution_count": 51,
   "metadata": {
    "collapsed": true
   },
   "outputs": [],
   "source": [
    "x_short = 'GTTTCCCAGTGTATATCGAGGGATACTACGTGCATAGTAACATCGGCCAA'\n",
    "z_short = '33333333333321021021021021021021021021021021021021'"
   ]
  },
  {
   "cell_type": "code",
   "execution_count": 52,
   "metadata": {
    "collapsed": true
   },
   "outputs": [],
   "source": [
    "x_long = 'TGAGTATCACTTAGGTCTATGTCTAGTCGTCTTTCGTAATGTTTGGTCTTGTCACCAGTTATCCTATGGCGCTCCGAGTCTGGTTCTCGAAATAAGCATCCCCGCCCAAGTCATGCACCCGTTTGTGTTCTTCGCCGACTTGAGCGACTTAATGAGGATGCCACTCGTCACCATCTTGAACATGCCACCAACGAGGTTGCCGCCGTCCATTATAACTACAACCTAGACAATTTTCGCTTTAGGTCCATTCACTAGGCCGAAATCCGCTGGAGTAAGCACAAAGCTCGTATAGGCAAAACCGACTCCATGAGTCTGCCTCCCGACCATTCCCATCAAAATACGCTATCAATACTAAAAAAATGACGGTTCAGCCTCACCCGGATGCTCGAGACAGCACACGGACATGATAGCGAACGTGACCAGTGTAGTGGCCCAGGGGAACCGCCGCGCCATTTTGTTCATGGCCCCGCTGCCGAATATTTCGATCCCAGCTAGAGTAATGACCTGTAGCTTAAACCCACTTTTGGCCCAAACTAGAGCAACAATCGGAATGGCTGAAGTGAATGCCGGCATGCCCTCAGCTCTAAGCGCCTCGATCGCAGTAATGACCGTCTTAACATTAGCTCTCAACGCTATGCAGTGGCTTTGGTGTCGCTTACTACCAGTTCCGAACGTCTCGGGGGTCTTGATGCAGCGCACCACGATGCCAAGCCACGCTGAATCGGGCAGCCAGCAGGATCGTTACAGTCGAGCCCACGGCAATGCGAGCCGTCACGTTGCCGAATATGCACTGCGGGACTACGGACGCAGGGCCGCCAACCATCTGGTTGACGATAGCCAAACACGGTCCAGAGGTGCCCCATCTCGGTTATTTGGATCGTAATTTTTGTGAAGAACACTGCAAACGCAAGTGGCTTTCCAGACTTTACGACTATGTGCCATCATTTAAGGCTACGACCCGGCTTTTAAGACCCCCACCACTAAATAGAGGTACATCTGA'\n",
    "z_long = '3333321021021021021021021021021021021021021021021021021021021021021021033333333334564564564564564564564564564564564564564564564564564564564564564564564564564564564564564564564564564564564564564564564564564564563210210210210210210210210210210210210210210210210210210210210210210210210210210210210210210210210210210210210210210210210210210210321021021021021021021021033334564564564564564564564564564564564564564564564564564564564564564564564564564564564564564564564564564564564564564564564564564564564564564564564564564564564564564564564564564564564564564564564564564564564564564564564564564564564564564564564564564564564564564564564564564564564564564564564564564564564564564564564564564564564564564564564564564564564563333333456456456456456456456456456456456456456456456456456456456456456456456456456456456456456456456456456456456456456456332102102102102102102102102102102102102102102102102102102102102102102102102102102102102102102102103210210210210210210210210210210210210210210210210210210210210210'"
   ]
  },
  {
   "cell_type": "markdown",
   "metadata": {},
   "source": [
    "Remember to translate these sequences to indices before using them with your algorithms."
   ]
  },
  {
   "cell_type": "markdown",
   "metadata": {},
   "source": [
    "## Implementing without log-transformation"
   ]
  },
  {
   "cell_type": "markdown",
   "metadata": {},
   "source": [
    "First, we will implement the algorithm without log-transformation. This will cause issues with numerical stability (like above when computing the joint probability), so we will use the log-transformation trick to fix this in the next section."
   ]
  },
  {
   "cell_type": "markdown",
   "metadata": {},
   "source": [
    "### Computation of the $\\omega$ table"
   ]
  },
  {
   "cell_type": "code",
   "execution_count": 53,
   "metadata": {
    "collapsed": true
   },
   "outputs": [],
   "source": [
    "def compute_w(model, x):\n",
    "    k = len(model.init_probs)\n",
    "    n = len(x)\n",
    "    x = translate_observations_to_indices(x)\n",
    "    \n",
    "    w = make_table(k, n)\n",
    "    \n",
    "    # Base case: fill out w[i][0] for i = 0..k-1\n",
    "    for j in range(k):\n",
    "        ip = model.init_probs[j]\n",
    "        ep = model.emission_probs[j][x[0]]\n",
    "        w[j][0] = ip * ep\n",
    "    \n",
    "    # Inductive case: fill out w[i][j] for i = 0..k, j = 0..n-1\n",
    "    for i in range(1, n):\n",
    "        for j in range(k):\n",
    "            max_prob = 0\n",
    "            for l in range(k):\n",
    "                tp = model.trans_probs[l][j]\n",
    "                ep = model.emission_probs[j][x[i]]\n",
    "                prob = w[l][i-1] * tp * ep\n",
    "                if prob > max_prob:\n",
    "                    max_prob = prob\n",
    "            w[j][i] = max_prob\n",
    "    return w          \n"
   ]
  },
  {
   "cell_type": "markdown",
   "metadata": {},
   "source": [
    "### Finding the joint probability of an optimal path"
   ]
  },
  {
   "cell_type": "markdown",
   "metadata": {},
   "source": [
    "Now, write a function that given the $\\omega$-table, returns the probability of an optimal path through the HMM. As explained in the lecture, this corresponds to finding the highest probability in the last column of the table."
   ]
  },
  {
   "cell_type": "code",
   "execution_count": 54,
   "metadata": {
    "collapsed": true
   },
   "outputs": [],
   "source": [
    "def opt_path_prob(w):\n",
    "    max_prob = 0\n",
    "    for j in range(len(w)):\n",
    "        prob = w[j][-1]\n",
    "        if prob > max_prob:\n",
    "            max_prob = prob\n",
    "    return max_prob\n"
   ]
  },
  {
   "cell_type": "markdown",
   "metadata": {},
   "source": [
    "Now test your implementation in the box below:"
   ]
  },
  {
   "cell_type": "code",
   "execution_count": 55,
   "metadata": {
    "collapsed": true
   },
   "outputs": [
    {
     "data": {
      "text/plain": [
       "1.9114255184318858e-31"
      ]
     },
     "execution_count": 55,
     "metadata": {},
     "output_type": "execute_result"
    }
   ],
   "source": [
    "w = compute_w(hmm_7_state, x_short)\n",
    "opt_path_prob(w)"
   ]
  },
  {
   "cell_type": "markdown",
   "metadata": {},
   "source": [
    "Now do the same for `x_long`. What happens?"
   ]
  },
  {
   "cell_type": "code",
   "execution_count": 56,
   "metadata": {
    "collapsed": true
   },
   "outputs": [
    {
     "data": {
      "text/plain": [
       "0"
      ]
     },
     "execution_count": 56,
     "metadata": {},
     "output_type": "execute_result"
    }
   ],
   "source": [
    "w = compute_w(hmm_7_state, x_long)\n",
    "opt_path_prob(w)"
   ]
  },
  {
   "cell_type": "markdown",
   "metadata": {},
   "source": [
    "### Obtaining an optimal path through backtracking"
   ]
  },
  {
   "cell_type": "markdown",
   "metadata": {},
   "source": [
    "Implement backtracking to find a most probable path of hidden states given the $\\omega$-table."
   ]
  },
  {
   "cell_type": "code",
   "execution_count": 57,
   "metadata": {
    "collapsed": true
   },
   "outputs": [],
   "source": [
    "def backtrack(model, x, w):\n",
    "    x = translate_observations_to_indices(x)\n",
    "    \n",
    "    max_prob = 0\n",
    "    max_prob_position = None \n",
    "    for j in range(len(w)):\n",
    "        prob = w[j][-1]\n",
    "        if prob > max_prob:\n",
    "            max_prob = prob\n",
    "            max_prob_position = j\n",
    "    path = str(max_prob_position)\n",
    "\n",
    "    pre_prob = max_prob\n",
    "    pre_prob_position = max_prob_position\n",
    "    \n",
    "    for i in range(-2, -len(x)-1, -1):\n",
    "        for j in range(len(w)):\n",
    "            tp = model.trans_probs[j][pre_prob_position]\n",
    "            ep = model.emission_probs[pre_prob_position][x[i+1]]\n",
    "            prob = w[j][i] * tp * ep\n",
    "            if math.isclose(prob, pre_prob):\n",
    "                pre_prob = w[j][i]\n",
    "                pre_prob_position = j\n",
    "                path = str(j) + path\n",
    "\n",
    "    return path"
   ]
  },
  {
   "cell_type": "code",
   "execution_count": 58,
   "metadata": {
    "collapsed": true
   },
   "outputs": [
    {
     "name": "stdout",
     "output_type": "stream",
     "text": [
      "33333333333321021021021021021021021021021021021021\n"
     ]
    }
   ],
   "source": [
    "w = compute_w(hmm_7_state, x_short)\n",
    "z_viterbi = backtrack(hmm_7_state, x_short, w)\n",
    "print(z_viterbi)"
   ]
  },
  {
   "cell_type": "markdown",
   "metadata": {},
   "source": [
    "Now do the same for `x_long`. What happens?"
   ]
  },
  {
   "cell_type": "code",
   "execution_count": 59,
   "metadata": {
    "collapsed": true
   },
   "outputs": [],
   "source": [
    "# w = compute_w(hmm_7_state, x_long)\n",
    "# z_viterbi = backtrack(hmm_7_state, x_long, w)\n",
    "# print(z_viterbi)"
   ]
  },
  {
   "cell_type": "markdown",
   "metadata": {},
   "source": [
    "*It doesn't work because most of the probabilities are reduced to 0.*"
   ]
  },
  {
   "cell_type": "markdown",
   "metadata": {},
   "source": [
    "## Implementing with log-transformation"
   ]
  },
  {
   "cell_type": "markdown",
   "metadata": {},
   "source": [
    "Now implement the Viterbi algorithm with log-transformation. The steps are the same as above."
   ]
  },
  {
   "cell_type": "markdown",
   "metadata": {},
   "source": [
    "### Computation of the (log-transformed) $\\omega$ table"
   ]
  },
  {
   "cell_type": "code",
   "execution_count": 60,
   "metadata": {
    "collapsed": true
   },
   "outputs": [],
   "source": [
    "def compute_w_log(model, x):\n",
    "    k = len(model.init_probs)\n",
    "    n = len(x)\n",
    "    x = translate_observations_to_indices(x)\n",
    "    \n",
    "    w = make_table(k, n)\n",
    "    \n",
    "    # Base case: fill out w[i][0] for i = 0..k-1\n",
    "    for j in range(k):\n",
    "        ip = model.init_probs[j]\n",
    "        ep = model.emission_probs[j][x[0]]\n",
    "        w[j][0] = log(ip) + log(ep)\n",
    "    \n",
    "    # Inductive case: fill out w[i][j] for i = 0..k, j = 0..n-1\n",
    "    for i in range(1, n):\n",
    "        for j in range(k):\n",
    "            max_prob = float('-inf')\n",
    "            for l in range(k):\n",
    "                tp = model.trans_probs[l][j]\n",
    "                ep = model.emission_probs[j][x[i]]\n",
    "                prob = w[l][i-1] + log(tp) + log(ep)\n",
    "                if prob > max_prob:\n",
    "                    max_prob = prob\n",
    "            w[j][i] = max_prob\n",
    "    return w  "
   ]
  },
  {
   "cell_type": "code",
   "execution_count": 61,
   "metadata": {},
   "outputs": [],
   "source": [
    "import math  # Just ignore this :-)\n",
    "\n",
    "def log(x):\n",
    "    if x == 0:\n",
    "        return float('-inf')\n",
    "    return math.log(x)"
   ]
  },
  {
   "cell_type": "markdown",
   "metadata": {},
   "source": [
    "### Finding the (log-transformed) joint probability of an optimal path"
   ]
  },
  {
   "cell_type": "code",
   "execution_count": 62,
   "metadata": {
    "collapsed": true
   },
   "outputs": [],
   "source": [
    "def opt_path_prob_log(w):\n",
    "    max_prob = float('-inf')\n",
    "    \n",
    "    for j in range(len(w)):\n",
    "        prob = w[j][-1]\n",
    "        if prob > max_prob:\n",
    "            max_prob = prob\n",
    "    return max_prob"
   ]
  },
  {
   "cell_type": "code",
   "execution_count": 63,
   "metadata": {
    "collapsed": true
   },
   "outputs": [
    {
     "data": {
      "text/plain": [
       "array([[        -inf,         -inf,         -inf,  -8.58173171,\n",
       "         -9.85024304, -11.18774723, -13.0203287 , -14.10651847,\n",
       "        -16.18596001, -17.54853784, -18.41158406, -21.18417278,\n",
       "        -21.67128188, -23.12211476, -24.11446662, -26.38181258,\n",
       "        -26.73403318, -28.04223798, -31.48538587, -31.44456388,\n",
       "        -32.34730358, -36.12466668, -36.26045509, -37.28097783,\n",
       "        -39.03101539, -40.74784224, -40.96188911, -43.4414415 ,\n",
       "        -45.2352294 , -44.41965685, -48.95047989, -49.54029499,\n",
       "        -49.19472607, -52.91907325, -54.76165131, -52.62432293,\n",
       "        -57.4064604 , -59.28986046, -56.74706696, -61.711526  ,\n",
       "        -63.30724398, -60.02251314, -66.93288232, -66.91916239,\n",
       "        -63.9502845 , -71.8876592 , -71.91737517, -68.10119941,\n",
       "        -74.78581114, -76.73326638],\n",
       "       [        -inf,         -inf,  -6.9722938 ,  -8.46394868,\n",
       "         -9.80145287, -11.63403434, -12.90254566, -14.79966565,\n",
       "        -15.93909993, -17.0252897 , -19.57473487, -20.46730908,\n",
       "        -21.51267685, -22.91049382, -24.77237467, -25.34773881,\n",
       "        -26.65594362, -30.28141307, -30.05826952, -30.96100921,\n",
       "        -34.73837231, -35.05648229, -35.67153992, -37.82704258,\n",
       "        -39.36154788, -39.3524512 , -42.23746869, -43.84893503,\n",
       "        -43.03336249, -47.34104198, -48.15400063, -47.80843171,\n",
       "        -51.71510045, -53.1522134 , -51.42035012, -56.02016604,\n",
       "        -57.68042255, -55.54309416, -60.50755319, -61.92094962,\n",
       "        -58.81854033, -65.32344441, -65.53286803, -62.56399014,\n",
       "        -70.50136484, -70.53108081, -66.71490505, -73.58183834,\n",
       "        -75.52929358, -70.73228857],\n",
       "       [        -inf,  -5.768321  ,  -7.25997587,  -8.75163075,\n",
       "        -10.58421221, -11.85272354, -13.19022774, -14.04197995,\n",
       "        -15.8213169 , -17.67761489, -19.26333627, -19.90323894,\n",
       "        -21.70652101, -23.16293676, -24.14376601, -25.6061215 ,\n",
       "        -28.38429308, -28.4488316 , -29.06388923, -32.84125233,\n",
       "        -33.15936231, -34.062102  , -36.62306978, -37.75210997,\n",
       "        -38.30262908, -41.03349589, -42.23949712, -41.98354036,\n",
       "        -45.443922  , -46.95002782, -45.91131172, -50.66527832,\n",
       "        -51.54277549, -50.21637732, -54.41072813, -55.78330256,\n",
       "        -54.33912135, -58.89811528, -60.31151171, -57.76871821,\n",
       "        -63.7140065 , -64.32889523, -61.51416802, -68.60424485,\n",
       "        -68.63396082, -65.66508293, -72.53201621, -73.91985567,\n",
       "        -69.12285066, -75.70210187],\n",
       "       [ -1.38629436,  -2.87794924,  -4.36960411,  -5.86125899,\n",
       "         -7.35291387,  -8.84456875, -10.33622362, -11.8278785 ,\n",
       "        -13.31953338, -14.81118825, -16.30284313, -17.79449801,\n",
       "        -19.28615288, -20.77780776, -22.26946264, -23.76111751,\n",
       "        -25.25277239, -26.74442727, -28.23608214, -29.72773702,\n",
       "        -31.2193919 , -32.71104677, -34.20270165, -35.69435653,\n",
       "        -37.1860114 , -38.67766628, -40.16932116, -41.66097603,\n",
       "        -43.15263091, -44.64428579, -46.13594066, -47.62759554,\n",
       "        -49.11925042, -50.61090529, -52.10256017, -53.59421505,\n",
       "        -55.08586993, -56.5775248 , -58.06917968, -59.56083456,\n",
       "        -61.05248943, -62.54414431, -63.71139259, -65.20304747,\n",
       "        -66.69470235, -67.63916395, -69.13081883, -70.62247371,\n",
       "        -71.79007887, -73.28173375],\n",
       "       [        -inf,  -6.68461173,  -8.1762666 ,  -9.66792148,\n",
       "         -9.773282  , -11.26493687, -12.75659175, -14.30149114,\n",
       "        -16.02758358, -17.97794808, -17.86461939, -21.6011605 ,\n",
       "        -21.94654143, -23.7791229 , -25.38297795, -27.56778   ,\n",
       "        -27.05456907, -29.45247747, -31.34959745, -31.46499518,\n",
       "        -33.5752215 , -35.41909697, -35.99320433, -39.0842599 ,\n",
       "        -39.38769033, -40.52141347, -43.90015112, -43.7617488 ,\n",
       "        -45.04962262, -47.35233599, -49.38857023, -48.61275087,\n",
       "        -51.53961855, -53.51131427, -54.52725437, -55.5082119 ,\n",
       "        -57.79392013, -59.7486107 , -59.47680526, -62.67434986,\n",
       "        -63.47285756, -63.5995493 , -67.84246168, -66.74830374,\n",
       "        -67.72229333, -70.89440742, -70.5833657 , -71.15189019,\n",
       "        -75.22764389, -75.80472203],\n",
       "       [        -inf,         -inf,  -8.29404964,  -9.78570452,\n",
       "        -11.27735939, -11.38271991, -12.87437479, -13.96056455,\n",
       "        -15.50546395, -17.63702149, -19.18192088, -19.4740573 ,\n",
       "        -22.8051333 , -23.55597935, -24.9830957 , -26.99241586,\n",
       "        -29.17721791, -28.25854188, -30.65645027, -32.55357026,\n",
       "        -32.66896799, -34.77919431, -36.62306978, -37.60264224,\n",
       "        -40.28823271, -40.99712824, -42.13085138, -45.10412392,\n",
       "        -45.37118671, -46.25359542, -48.9617739 , -50.59254303,\n",
       "        -50.22218878, -52.74359135, -55.12075218, -55.73122718,\n",
       "        -56.71218471, -59.40335804, -60.9525835 , -60.68077806,\n",
       "        -64.28378778, -64.67683037, -65.20898721, -69.45189959,\n",
       "        -67.95227654, -68.92626614, -72.50384534, -72.19280361,\n",
       "        -72.35586299, -76.4316167 ],\n",
       "       [        -inf,         -inf,         -inf,  -9.34387176,\n",
       "        -10.98967732, -12.4813322 , -12.58669271, -14.77149477,\n",
       "        -15.57000247, -16.55528607, -19.2464594 , -20.231743  ,\n",
       "        -21.37117729, -23.85495542, -25.45309933, -26.03291783,\n",
       "        -28.19638866, -30.78665583, -30.15566186, -32.26588818,\n",
       "        -34.16300817, -34.2784059 , -36.67631429, -37.6728919 ,\n",
       "        -39.49976222, -41.49220551, -42.04695037, -44.02797137,\n",
       "        -46.30809673, -46.98062462, -47.30341755, -50.57121181,\n",
       "        -51.79651584, -52.11930876, -53.79341348, -57.01787216,\n",
       "        -57.34066509, -57.76200683, -61.30047802, -62.84970349,\n",
       "        -61.88475087, -66.18090776, -65.72665249, -66.41296001,\n",
       "        -71.0613375 , -69.56171445, -70.13023894, -73.70781814,\n",
       "        -74.0899236 , -74.25298298]])"
      ]
     },
     "execution_count": 63,
     "metadata": {},
     "output_type": "execute_result"
    }
   ],
   "source": [
    "import numpy as np\n",
    "w = compute_w_log(hmm_7_state, x_short)\n",
    "np.array(w)\n",
    "#opt_path_prob_log(w)"
   ]
  },
  {
   "cell_type": "markdown",
   "metadata": {},
   "source": [
    "Now do the same for `x_long`. What happens?"
   ]
  },
  {
   "cell_type": "code",
   "execution_count": null,
   "metadata": {
    "collapsed": true
   },
   "outputs": [
    {
     "data": {
      "text/plain": [
       "-1406.7209253880144"
      ]
     },
     "execution_count": 97,
     "metadata": {},
     "output_type": "execute_result"
    }
   ],
   "source": [
    "w = compute_w_log(hmm_7_state, x_long)\n",
    "opt_path_prob_log(w)"
   ]
  },
  {
   "cell_type": "markdown",
   "metadata": {},
   "source": [
    "### Obtaining an optimal path through backtracking"
   ]
  },
  {
   "cell_type": "code",
   "execution_count": null,
   "metadata": {
    "collapsed": true
   },
   "outputs": [],
   "source": [
    "def backtrack_log(model, x, w):\n",
    "    x = translate_observations_to_indices(x)\n",
    "    \n",
    "    max_prob = float('-inf')\n",
    "    max_prob_position = None \n",
    "    for j in range(len(w)):\n",
    "        prob = w[j][-1]\n",
    "        if prob > max_prob:\n",
    "            max_prob = prob\n",
    "            max_prob_position = j\n",
    "    path = str(max_prob_position)\n",
    "\n",
    "    pre_prob = max_prob\n",
    "    pre_prob_position = max_prob_position\n",
    "    \n",
    "    for i in range(-2, -len(x)-1, -1):\n",
    "        for j in range(len(w)):\n",
    "            tp = model.trans_probs[j][pre_prob_position]\n",
    "            ep = model.emission_probs[pre_prob_position][x[i+1]]\n",
    "            prob = w[j][i] + log(tp) + log(ep)\n",
    "            if math.isclose(prob, pre_prob):\n",
    "                pre_prob = w[j][i]\n",
    "                pre_prob_position = j\n",
    "                path = str(j) + path\n",
    "\n",
    "    return path"
   ]
  },
  {
   "cell_type": "code",
   "execution_count": null,
   "metadata": {
    "collapsed": true
   },
   "outputs": [
    {
     "data": {
      "text/plain": [
       "'3333333333321021021021021021021021021021021021021'"
      ]
     },
     "execution_count": 99,
     "metadata": {},
     "output_type": "execute_result"
    }
   ],
   "source": [
    "w = compute_w_log(hmm_7_state, x_short)\n",
    "z_viterbi_log = backtrack_log(hmm_7_state, x_short, w)\n",
    "z_viterbi_log"
   ]
  },
  {
   "cell_type": "markdown",
   "metadata": {},
   "source": [
    "Now do the same for `x_long`. What happens?"
   ]
  },
  {
   "cell_type": "code",
   "execution_count": null,
   "metadata": {
    "collapsed": true
   },
   "outputs": [
    {
     "data": {
      "text/plain": [
       "'333321021021021021021021021021021021021021021021021021021021021021021033333333334564564564564564564564564564564564564564564564564564564564564564564564564564564564564564564564564564564564564564564564564564564563210210210210210210210210210210210210210210210210210210210210210210210210210210210210210210210210210210210210210210210210210210210321021021021021021021021033334564564564564564564564564564564564564564564564564564564564564564564564564564564564564564564564564564564564564564564564564564564564564564564564564564564564564564564564564564564564564564564564564564564564564564564564564564564564564564564564564564564564564564564564564564564564564564564564564564564564564564564564564564564564564564564564564564564564563333333456456456456456456456456456456456456456456456456456456456456456456456456456456456456456456456456456456456456456456332102102102102102102102102102102102102102102102102102102102102102102102102102102102102102102102103210210210210210210210210210210210210210210210210210210210210210'"
      ]
     },
     "execution_count": 100,
     "metadata": {},
     "output_type": "execute_result"
    }
   ],
   "source": [
    "w = compute_w_log(hmm_7_state, x_long)\n",
    "z_viterbi_log = backtrack_log(hmm_7_state, x_long, w)\n",
    "z_viterbi_log"
   ]
  },
  {
   "cell_type": "markdown",
   "metadata": {},
   "source": [
    "### Does it work?"
   ]
  },
  {
   "cell_type": "markdown",
   "metadata": {},
   "source": [
    "Think about how to verify that your implementations of Viterbi (i.e. `compute_w`, `opt_path_prob`, `backtrack`, and there log-transformed variants `compute_w_log`, `opt_path_prob_log`, `backtrack_log`) are correct.\n",
    "\n",
    "One thing that should hold is that the probability of a most likely path as computed by `opt_path_prob` (or `opt_path_prob_log`) for a given sequence of observables (e.g. `x_short` or `x_long`) should be equal to the joint probability of a corersponding most probable path as found by `backtrack` (or `backtrack_log`) and the given sequence of observables. Why?\n",
    "\n",
    "Make an experiment that validates that this is the case for your implementations of Viterbi and `x_short` and `x_long`."
   ]
  },
  {
   "cell_type": "code",
   "execution_count": null,
   "metadata": {
    "collapsed": true
   },
   "outputs": [
    {
     "name": "stdout",
     "output_type": "stream",
     "text": [
      "1.9114255184318858e-31\n",
      "1.9114255184318882e-31\n",
      "-70.73228857440488\n",
      "-70.73228857440486\n",
      "-1406.7209253880144\n",
      "-1406.7209253880178\n"
     ]
    },
    {
     "ename": "TypeError",
     "evalue": "list indices must be integers or slices, not NoneType",
     "output_type": "error",
     "traceback": [
      "\u001b[0;31m---------------------------------------------------------------------------\u001b[0m",
      "\u001b[0;31mTypeError\u001b[0m                                 Traceback (most recent call last)",
      "\u001b[1;32m/Users/lauraskak/Desktop/CTiB/TØ/TO-SCRIPTS/TO12/projekt 4.ipynb Cell 62\u001b[0m line \u001b[0;36m6\n\u001b[1;32m     <a href='vscode-notebook-cell:/Users/lauraskak/Desktop/CTiB/T%C3%98/TO-SCRIPTS/TO12/projekt%204.ipynb#Y114sZmlsZQ%3D%3D?line=58'>59</a>\u001b[0m \u001b[39mprint\u001b[39m(joint_prob_log(hmm_7_state, x_long, z_viterbi_log))\n\u001b[1;32m     <a href='vscode-notebook-cell:/Users/lauraskak/Desktop/CTiB/T%C3%98/TO-SCRIPTS/TO12/projekt%204.ipynb#Y114sZmlsZQ%3D%3D?line=60'>61</a>\u001b[0m w \u001b[39m=\u001b[39m compute_w(hmm_7_state, x_long)\n\u001b[0;32m---> <a href='vscode-notebook-cell:/Users/lauraskak/Desktop/CTiB/T%C3%98/TO-SCRIPTS/TO12/projekt%204.ipynb#Y114sZmlsZQ%3D%3D?line=61'>62</a>\u001b[0m z_viterbi \u001b[39m=\u001b[39m backtrack(hmm_7_state, x_long, w)\n\u001b[1;32m     <a href='vscode-notebook-cell:/Users/lauraskak/Desktop/CTiB/T%C3%98/TO-SCRIPTS/TO12/projekt%204.ipynb#Y114sZmlsZQ%3D%3D?line=63'>64</a>\u001b[0m \u001b[39mprint\u001b[39m(opt_path_prob(w))\n\u001b[1;32m     <a href='vscode-notebook-cell:/Users/lauraskak/Desktop/CTiB/T%C3%98/TO-SCRIPTS/TO12/projekt%204.ipynb#Y114sZmlsZQ%3D%3D?line=64'>65</a>\u001b[0m \u001b[39mprint\u001b[39m(joint_prob(hmm_7_state, x_long, z_viterbi))\n",
      "\u001b[1;32m/Users/lauraskak/Desktop/CTiB/TØ/TO-SCRIPTS/TO12/projekt 4.ipynb Cell 62\u001b[0m line \u001b[0;36m1\n\u001b[1;32m     <a href='vscode-notebook-cell:/Users/lauraskak/Desktop/CTiB/T%C3%98/TO-SCRIPTS/TO12/projekt%204.ipynb#Y114sZmlsZQ%3D%3D?line=15'>16</a>\u001b[0m \u001b[39mfor\u001b[39;00m i \u001b[39min\u001b[39;00m \u001b[39mrange\u001b[39m(\u001b[39m-\u001b[39m\u001b[39m2\u001b[39m, \u001b[39m-\u001b[39m\u001b[39mlen\u001b[39m(x)\u001b[39m-\u001b[39m\u001b[39m1\u001b[39m, \u001b[39m-\u001b[39m\u001b[39m1\u001b[39m):\n\u001b[1;32m     <a href='vscode-notebook-cell:/Users/lauraskak/Desktop/CTiB/T%C3%98/TO-SCRIPTS/TO12/projekt%204.ipynb#Y114sZmlsZQ%3D%3D?line=16'>17</a>\u001b[0m     \u001b[39mfor\u001b[39;00m j \u001b[39min\u001b[39;00m \u001b[39mrange\u001b[39m(\u001b[39mlen\u001b[39m(w)):\n\u001b[0;32m---> <a href='vscode-notebook-cell:/Users/lauraskak/Desktop/CTiB/T%C3%98/TO-SCRIPTS/TO12/projekt%204.ipynb#Y114sZmlsZQ%3D%3D?line=17'>18</a>\u001b[0m         tp \u001b[39m=\u001b[39m model\u001b[39m.\u001b[39;49mtrans_probs[j][pre_prob_position]\n\u001b[1;32m     <a href='vscode-notebook-cell:/Users/lauraskak/Desktop/CTiB/T%C3%98/TO-SCRIPTS/TO12/projekt%204.ipynb#Y114sZmlsZQ%3D%3D?line=18'>19</a>\u001b[0m         ep \u001b[39m=\u001b[39m model\u001b[39m.\u001b[39memission_probs[pre_prob_position][x[i\u001b[39m+\u001b[39m\u001b[39m1\u001b[39m]]\n\u001b[1;32m     <a href='vscode-notebook-cell:/Users/lauraskak/Desktop/CTiB/T%C3%98/TO-SCRIPTS/TO12/projekt%204.ipynb#Y114sZmlsZQ%3D%3D?line=19'>20</a>\u001b[0m         prob \u001b[39m=\u001b[39m w[j][i] \u001b[39m*\u001b[39m tp \u001b[39m*\u001b[39m ep\n",
      "\u001b[0;31mTypeError\u001b[0m: list indices must be integers or slices, not NoneType"
     ]
    }
   ],
   "source": [
    "# To access joint_prob and joint_prob_log, you must copy your implementations from last week here ...\n",
    "\n",
    "def joint_prob(model, x, z):\n",
    "    x = translate_observations_to_indices(x)\n",
    "    z = translate_path_to_indices(z)\n",
    "    \n",
    "    acc_prob = None\n",
    "    \n",
    "    if len(x) > 0:\n",
    "        ip = model.init_probs[z[0]]\n",
    "        ep = model.emission_probs[z[0]][x[0]]\n",
    "        acc_prob = ip * ep\n",
    "        \n",
    "        for i in range(1, len(x)):\n",
    "            tp = model.trans_probs[z[i-1]][z[i]]\n",
    "            ep = model.emission_probs[z[i]][x[i]]\n",
    "            acc_prob *= tp * ep\n",
    "    \n",
    "    return acc_prob\n",
    "\n",
    "def joint_prob_log(model, x, z):\n",
    "    x = translate_observations_to_indices(x)\n",
    "    z = translate_path_to_indices(z)\n",
    "    acc_prob = None\n",
    "    \n",
    "    if len(x) > 0:\n",
    "        ip = model.init_probs[z[0]]\n",
    "        ep = model.emission_probs[z[0]][x[0]]\n",
    "        acc_prob = log(ip) + log(ep)\n",
    "        \n",
    "        for i in range(1, len(x)):\n",
    "            tp = model.trans_probs[z[i-1]][z[i]]\n",
    "            ep = model.emission_probs[z[i]][x[i]]\n",
    "            acc_prob += log(tp) + log(ep)\n",
    "    \n",
    "    return acc_prob\n",
    "\n",
    "\n",
    "# Check that opt_path_prob is equal to joint_prob(hmm_7_state, x_short, z_viterbi)\n",
    "\n",
    "w = compute_w(hmm_7_state, x_short)\n",
    "z_viterbi = backtrack(hmm_7_state, x_short, w)\n",
    "print(opt_path_prob(w))\n",
    "print(joint_prob(hmm_7_state, x_short, z_viterbi))\n",
    "\n",
    "# Check that opt_path_prob_log is equal to joint_prob_log(hmm_7_state, x_short, z_viterbi_log)\n",
    "w = compute_w_log(hmm_7_state, x_short)\n",
    "z_viterbi_log = backtrack_log(hmm_7_state, x_short, w)\n",
    "\n",
    "print(opt_path_prob_log(w))\n",
    "print(joint_prob_log(hmm_7_state, x_short, z_viterbi_log))\n",
    "\n",
    "# Do the above checks for x_long ...\n",
    "\n",
    "w = compute_w_log(hmm_7_state, x_long)\n",
    "z_viterbi_log = backtrack_log(hmm_7_state, x_long, w)\n",
    "\n",
    "print(opt_path_prob_log(w))\n",
    "print(joint_prob_log(hmm_7_state, x_long, z_viterbi_log))\n",
    "\n",
    "w = compute_w(hmm_7_state, x_long)\n",
    "z_viterbi = backtrack(hmm_7_state, x_long, w)\n",
    "\n",
    "print(opt_path_prob(w))\n",
    "print(joint_prob(hmm_7_state, x_long, z_viterbi))"
   ]
  },
  {
   "cell_type": "markdown",
   "metadata": {},
   "source": [
    "Do your implementations pass the above checks?"
   ]
  },
  {
   "cell_type": "markdown",
   "metadata": {},
   "source": [
    "### Does log-transformation matter?"
   ]
  },
  {
   "cell_type": "markdown",
   "metadata": {},
   "source": [
    "Make an experiment that investigates how long the input string can be before `backtrack` and `backtrack_log` start to disagree on a most likely path and its probability."
   ]
  },
  {
   "cell_type": "code",
   "execution_count": null,
   "metadata": {
    "collapsed": true
   },
   "outputs": [
    {
     "name": "stdout",
     "output_type": "stream",
     "text": [
      "100\n",
      "True\n",
      "200\n",
      "True\n",
      "300\n",
      "True\n",
      "400\n",
      "True\n",
      "500\n",
      "True\n",
      "521\n",
      "True\n",
      "522\n",
      "True\n",
      "523\n",
      "True\n",
      "524\n",
      "True\n",
      "525\n",
      "True\n",
      "526\n",
      "True\n",
      "527\n",
      "True\n",
      "528\n",
      "True\n",
      "529\n",
      "True\n",
      "530\n"
     ]
    },
    {
     "ename": "TypeError",
     "evalue": "list indices must be integers or slices, not NoneType",
     "output_type": "error",
     "traceback": [
      "\u001b[0;31m---------------------------------------------------------------------------\u001b[0m",
      "\u001b[0;31mTypeError\u001b[0m                                 Traceback (most recent call last)",
      "\u001b[1;32m/Users/lauraskak/Desktop/CTiB/TØ/TO-SCRIPTS/TO12/projekt 4.ipynb Cell 66\u001b[0m line \u001b[0;36m8\n\u001b[1;32m      <a href='vscode-notebook-cell:/Users/lauraskak/Desktop/CTiB/T%C3%98/TO-SCRIPTS/TO12/projekt%204.ipynb#Y121sZmlsZQ%3D%3D?line=5'>6</a>\u001b[0m \u001b[39mprint\u001b[39m(i)\n\u001b[1;32m      <a href='vscode-notebook-cell:/Users/lauraskak/Desktop/CTiB/T%C3%98/TO-SCRIPTS/TO12/projekt%204.ipynb#Y121sZmlsZQ%3D%3D?line=6'>7</a>\u001b[0m w \u001b[39m=\u001b[39m compute_w(hmm_7_state, x)\n\u001b[0;32m----> <a href='vscode-notebook-cell:/Users/lauraskak/Desktop/CTiB/T%C3%98/TO-SCRIPTS/TO12/projekt%204.ipynb#Y121sZmlsZQ%3D%3D?line=7'>8</a>\u001b[0m z_viterbi \u001b[39m=\u001b[39m backtrack(hmm_7_state, x, w)\n\u001b[1;32m      <a href='vscode-notebook-cell:/Users/lauraskak/Desktop/CTiB/T%C3%98/TO-SCRIPTS/TO12/projekt%204.ipynb#Y121sZmlsZQ%3D%3D?line=8'>9</a>\u001b[0m w_log \u001b[39m=\u001b[39m compute_w_log(hmm_7_state, x)\n\u001b[1;32m     <a href='vscode-notebook-cell:/Users/lauraskak/Desktop/CTiB/T%C3%98/TO-SCRIPTS/TO12/projekt%204.ipynb#Y121sZmlsZQ%3D%3D?line=9'>10</a>\u001b[0m z_viterbi_log \u001b[39m=\u001b[39m backtrack_log(hmm_7_state, x, w_log)\n",
      "\u001b[1;32m/Users/lauraskak/Desktop/CTiB/TØ/TO-SCRIPTS/TO12/projekt 4.ipynb Cell 66\u001b[0m line \u001b[0;36m1\n\u001b[1;32m     <a href='vscode-notebook-cell:/Users/lauraskak/Desktop/CTiB/T%C3%98/TO-SCRIPTS/TO12/projekt%204.ipynb#Y121sZmlsZQ%3D%3D?line=15'>16</a>\u001b[0m \u001b[39mfor\u001b[39;00m i \u001b[39min\u001b[39;00m \u001b[39mrange\u001b[39m(\u001b[39m-\u001b[39m\u001b[39m2\u001b[39m, \u001b[39m-\u001b[39m\u001b[39mlen\u001b[39m(x)\u001b[39m-\u001b[39m\u001b[39m1\u001b[39m, \u001b[39m-\u001b[39m\u001b[39m1\u001b[39m):\n\u001b[1;32m     <a href='vscode-notebook-cell:/Users/lauraskak/Desktop/CTiB/T%C3%98/TO-SCRIPTS/TO12/projekt%204.ipynb#Y121sZmlsZQ%3D%3D?line=16'>17</a>\u001b[0m     \u001b[39mfor\u001b[39;00m j \u001b[39min\u001b[39;00m \u001b[39mrange\u001b[39m(\u001b[39mlen\u001b[39m(w)):\n\u001b[0;32m---> <a href='vscode-notebook-cell:/Users/lauraskak/Desktop/CTiB/T%C3%98/TO-SCRIPTS/TO12/projekt%204.ipynb#Y121sZmlsZQ%3D%3D?line=17'>18</a>\u001b[0m         tp \u001b[39m=\u001b[39m model\u001b[39m.\u001b[39;49mtrans_probs[j][pre_prob_position]\n\u001b[1;32m     <a href='vscode-notebook-cell:/Users/lauraskak/Desktop/CTiB/T%C3%98/TO-SCRIPTS/TO12/projekt%204.ipynb#Y121sZmlsZQ%3D%3D?line=18'>19</a>\u001b[0m         ep \u001b[39m=\u001b[39m model\u001b[39m.\u001b[39memission_probs[pre_prob_position][x[i\u001b[39m+\u001b[39m\u001b[39m1\u001b[39m]]\n\u001b[1;32m     <a href='vscode-notebook-cell:/Users/lauraskak/Desktop/CTiB/T%C3%98/TO-SCRIPTS/TO12/projekt%204.ipynb#Y121sZmlsZQ%3D%3D?line=19'>20</a>\u001b[0m         prob \u001b[39m=\u001b[39m w[j][i] \u001b[39m*\u001b[39m tp \u001b[39m*\u001b[39m ep\n",
      "\u001b[0;31mTypeError\u001b[0m: list indices must be integers or slices, not NoneType"
     ]
    }
   ],
   "source": [
    "for i in range(1, len(x_long), 1):\n",
    "    x = x_long[:i]\n",
    "    z = z_long[:i]\n",
    "    \n",
    "    if i % 100 == 0 or i > 520:\n",
    "        print(i)\n",
    "        w = compute_w(hmm_7_state, x)\n",
    "        z_viterbi = backtrack(hmm_7_state, x, w)\n",
    "        w_log = compute_w_log(hmm_7_state, x)\n",
    "        z_viterbi_log = backtrack_log(hmm_7_state, x, w_log)\n",
    "        print(z_viterbi_log == z_viterbi)"
   ]
  },
  {
   "cell_type": "markdown",
   "metadata": {},
   "source": [
    "**Your answer here:**\n",
    "\n",
    "For the 7-state model, `backtrack` and `backtrack_log` start to disagree on a most likely path and its probability for **i = 530** like before."
   ]
  }
 ],
 "metadata": {
  "anaconda-cloud": {},
  "kernelspec": {
   "display_name": "Python 3 (ipykernel)",
   "language": "python",
   "name": "python3"
  },
  "language_info": {
   "codemirror_mode": {
    "name": "ipython",
    "version": 3
   },
   "file_extension": ".py",
   "mimetype": "text/x-python",
   "name": "python",
   "nbconvert_exporter": "python",
   "pygments_lexer": "ipython3",
   "version": "3.9.17"
  }
 },
 "nbformat": 4,
 "nbformat_minor": 1
}
